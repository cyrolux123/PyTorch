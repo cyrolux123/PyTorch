{
 "cells": [
  {
   "cell_type": "markdown",
   "id": "1eb552d0",
   "metadata": {},
   "source": [
    "Reshaping, stacking, squeezing and unsqueezing tensors"
   ]
  },
  {
   "cell_type": "markdown",
   "id": "ddd63ad1",
   "metadata": {},
   "source": [
    "- Reshaping - reshapes an input tensor to a defined shape\n",
    "- View - return a view of an input tensor of certain shape but keep the same memory as the original tensor\n",
    "- Stacking - combine multiple tensors on top of each other(vstack) or side by side(hstack)\n",
    "- Squeeze - removes all `1` dimensions from a tensor\n",
    "- Unsqueeze - add a `1` dimension to a target tensor\n",
    "- Permute - return a view of the input with dimensions permuted(swapped) in a certain way"
   ]
  },
  {
   "cell_type": "code",
   "execution_count": 1,
   "id": "d8822616",
   "metadata": {},
   "outputs": [
    {
     "data": {
      "text/plain": [
       "(tensor([1., 2., 3., 4., 5., 6., 7., 8., 9.]), torch.Size([9]))"
      ]
     },
     "execution_count": 1,
     "metadata": {},
     "output_type": "execute_result"
    }
   ],
   "source": [
    "import torch\n",
    "x = torch.arange(1.,10.)\n",
    "x, x.shape"
   ]
  },
  {
   "cell_type": "code",
   "execution_count": 2,
   "id": "67cef557",
   "metadata": {},
   "outputs": [
    {
     "name": "stdout",
     "output_type": "stream",
     "text": [
      "tensor([[1., 2., 3., 4., 5., 6., 7., 8., 9.]]) torch.Size([1, 9])\n"
     ]
    }
   ],
   "source": [
    "# Add an extra dimension to the tensor\n",
    "x_reshaped = x.reshape(1, 9)\n",
    "# Print the reshaped tensor and its shape\n",
    "print(x_reshaped, x_reshaped.shape)"
   ]
  },
  {
   "cell_type": "code",
   "execution_count": 3,
   "id": "0fd864e4",
   "metadata": {},
   "outputs": [
    {
     "name": "stdout",
     "output_type": "stream",
     "text": [
      "tensor([[1.],\n",
      "        [2.],\n",
      "        [3.],\n",
      "        [4.],\n",
      "        [5.],\n",
      "        [6.],\n",
      "        [7.],\n",
      "        [8.],\n",
      "        [9.]]) torch.Size([9, 1])\n"
     ]
    }
   ],
   "source": [
    "# Add an extra dimension to the tensor\n",
    "x_reshaped = x.reshape(9, 1)\n",
    "# Print the reshaped tensor and its shape\n",
    "print(x_reshaped, x_reshaped.shape)"
   ]
  },
  {
   "cell_type": "code",
   "execution_count": 4,
   "id": "1b2c9aab",
   "metadata": {},
   "outputs": [
    {
     "data": {
      "text/plain": [
       "(tensor([[1., 2., 3., 4., 5., 6., 7., 8., 9.]]), torch.Size([1, 9]))"
      ]
     },
     "execution_count": 4,
     "metadata": {},
     "output_type": "execute_result"
    }
   ],
   "source": [
    "# Change the view\n",
    "z = x.view(1,9)\n",
    "z, z.shape"
   ]
  },
  {
   "cell_type": "code",
   "execution_count": 5,
   "id": "b8391c93",
   "metadata": {},
   "outputs": [
    {
     "data": {
      "text/plain": [
       "(tensor([[100.,   2.,   3.,   4.,   5.,   6.,   7.,   8.,   9.]]),\n",
       " tensor([100.,   2.,   3.,   4.,   5.,   6.,   7.,   8.,   9.]))"
      ]
     },
     "execution_count": 5,
     "metadata": {},
     "output_type": "execute_result"
    }
   ],
   "source": [
    "# Changing z changes x(because a view of a tensor shares the same memory as the original tensor)\n",
    "z[:, 0] = 100\n",
    "z, x"
   ]
  },
  {
   "cell_type": "code",
   "execution_count": 6,
   "id": "24f32789",
   "metadata": {},
   "outputs": [
    {
     "data": {
      "text/plain": [
       "tensor([[100.,   2.,   3.,   4.,   5.,   6.,   7.,   8.,   9.],\n",
       "        [100.,   2.,   3.,   4.,   5.,   6.,   7.,   8.,   9.],\n",
       "        [100.,   2.,   3.,   4.,   5.,   6.,   7.,   8.,   9.]])"
      ]
     },
     "execution_count": 6,
     "metadata": {},
     "output_type": "execute_result"
    }
   ],
   "source": [
    "# Stack tensors on top of each other\n",
    "x_stacked = torch.stack([x, x, x], dim=0)\n",
    "x_stacked"
   ]
  },
  {
   "cell_type": "code",
   "execution_count": 9,
   "id": "5656b621",
   "metadata": {},
   "outputs": [
    {
     "data": {
      "text/plain": [
       "tensor([100.,   2.,   3.,   4.,   5.,   6.,   7.,   8.,   9.])"
      ]
     },
     "execution_count": 9,
     "metadata": {},
     "output_type": "execute_result"
    }
   ],
   "source": [
    "# torch.squeeze() removes dimensions of size 1 from the tensor\n",
    "x"
   ]
  },
  {
   "cell_type": "code",
   "execution_count": 10,
   "id": "de83fbcc",
   "metadata": {},
   "outputs": [],
   "source": [
    "x_reshaped = x.reshape(1, 9)"
   ]
  },
  {
   "cell_type": "code",
   "execution_count": 11,
   "id": "cdb81c8d",
   "metadata": {},
   "outputs": [
    {
     "data": {
      "text/plain": [
       "tensor([[100.,   2.,   3.,   4.,   5.,   6.,   7.,   8.,   9.]])"
      ]
     },
     "execution_count": 11,
     "metadata": {},
     "output_type": "execute_result"
    }
   ],
   "source": [
    "x_reshaped"
   ]
  },
  {
   "cell_type": "code",
   "execution_count": 13,
   "id": "b9dab234",
   "metadata": {},
   "outputs": [
    {
     "data": {
      "text/plain": [
       "torch.Size([1, 9])"
      ]
     },
     "execution_count": 13,
     "metadata": {},
     "output_type": "execute_result"
    }
   ],
   "source": [
    "x_reshaped.shape"
   ]
  },
  {
   "cell_type": "code",
   "execution_count": 14,
   "id": "cc6926e3",
   "metadata": {},
   "outputs": [
    {
     "data": {
      "text/plain": [
       "tensor([100.,   2.,   3.,   4.,   5.,   6.,   7.,   8.,   9.])"
      ]
     },
     "execution_count": 14,
     "metadata": {},
     "output_type": "execute_result"
    }
   ],
   "source": [
    "x_reshaped.squeeze()"
   ]
  },
  {
   "cell_type": "code",
   "execution_count": 15,
   "id": "c6ee3f00",
   "metadata": {},
   "outputs": [
    {
     "data": {
      "text/plain": [
       "torch.Size([9])"
      ]
     },
     "execution_count": 15,
     "metadata": {},
     "output_type": "execute_result"
    }
   ],
   "source": [
    "x_reshaped.squeeze().shape"
   ]
  },
  {
   "cell_type": "code",
   "execution_count": 16,
   "id": "958911b4",
   "metadata": {},
   "outputs": [
    {
     "name": "stdout",
     "output_type": "stream",
     "text": [
      "Previous tensor: tensor([[100.,   2.,   3.,   4.,   5.,   6.,   7.,   8.,   9.]])\n",
      "Previous shape: torch.Size([1, 9])\n",
      "New tensor: tensor([100.,   2.,   3.,   4.,   5.,   6.,   7.,   8.,   9.])\n",
      "New shape: torch.Size([9])\n"
     ]
    }
   ],
   "source": [
    "print(f\"Previous tensor: {x_reshaped}\")\n",
    "print(f\"Previous shape: {x_reshaped.shape}\")\n",
    "\n",
    "# Remove extra dimensions from x_reshaped\n",
    "x_squeezed = x_reshaped.squeeze()\n",
    "print(f\"New tensor: {x_squeezed}\")\n",
    "print(f\"New shape: {x_squeezed.shape}\")"
   ]
  },
  {
   "cell_type": "code",
   "execution_count": 17,
   "id": "6168aad3",
   "metadata": {},
   "outputs": [
    {
     "name": "stdout",
     "output_type": "stream",
     "text": [
      "Previous target: tensor([[100.,   2.,   3.,   4.,   5.,   6.,   7.,   8.,   9.]])\n",
      "Previous target shape: torch.Size([1, 9])\n",
      "New target: tensor([[[100.,   2.,   3.,   4.,   5.,   6.,   7.,   8.,   9.]]])\n",
      "New target shape: torch.Size([1, 1, 9])\n"
     ]
    }
   ],
   "source": [
    "print(f\"Previous target: {x_reshaped}\")\n",
    "print(f\"Previous target shape: {x_reshaped.shape}\")\n",
    "\n",
    "# Add an extra dimension to the tensor with unsqueeze\n",
    "x_unsqueezed = x_reshaped.unsqueeze(dim=0)\n",
    "print(f\"New target: {x_unsqueezed}\")\n",
    "print(f\"New target shape: {x_unsqueezed.shape}\")"
   ]
  },
  {
   "cell_type": "code",
   "execution_count": 18,
   "id": "0fd43c20",
   "metadata": {},
   "outputs": [
    {
     "name": "stdout",
     "output_type": "stream",
     "text": [
      "Original shape: torch.Size([224, 224, 3])\n",
      "Permuted shape: torch.Size([3, 224, 224])\n"
     ]
    }
   ],
   "source": [
    "# torch.permute - rearranges the dimensions of a tensor in a specified order\n",
    "x_original = torch.rand(size=(224, 224, 3))\n",
    "\n",
    "# Permute the original tensor to rearrange thee axis(or dim) order\n",
    "x_permuted = x_original.permute(2, 0, 1)  # Rearranging to (3, 224, 224)\n",
    "print(f\"Original shape: {x_original.shape}\")\n",
    "print(f\"Permuted shape: {x_permuted.shape}\")"
   ]
  },
  {
   "cell_type": "code",
   "execution_count": 19,
   "id": "89a60d6d",
   "metadata": {},
   "outputs": [
    {
     "data": {
      "text/plain": [
       "tensor([[[0.8275, 0.3739, 0.8007],\n",
       "         [0.3216, 0.9339, 0.2541],\n",
       "         [0.7217, 0.7620, 0.7132],\n",
       "         ...,\n",
       "         [0.1767, 0.0775, 0.0247],\n",
       "         [0.4301, 0.2354, 0.1562],\n",
       "         [0.4917, 0.3802, 0.6971]],\n",
       "\n",
       "        [[0.3952, 0.9722, 0.9669],\n",
       "         [0.6012, 0.4404, 0.3503],\n",
       "         [0.5522, 0.5255, 0.1056],\n",
       "         ...,\n",
       "         [0.2792, 0.5348, 0.5240],\n",
       "         [0.4260, 0.6974, 0.1722],\n",
       "         [0.9120, 0.2957, 0.3107]],\n",
       "\n",
       "        [[0.2575, 0.3923, 0.8202],\n",
       "         [0.3176, 0.9830, 0.0719],\n",
       "         [0.3396, 0.0985, 0.6171],\n",
       "         ...,\n",
       "         [0.3427, 0.2934, 0.0212],\n",
       "         [0.0899, 0.6357, 0.0689],\n",
       "         [0.6106, 0.7341, 0.5091]],\n",
       "\n",
       "        ...,\n",
       "\n",
       "        [[0.5679, 0.8764, 0.1135],\n",
       "         [0.4450, 0.9396, 0.4361],\n",
       "         [0.1673, 0.2583, 0.2281],\n",
       "         ...,\n",
       "         [0.2109, 0.0964, 0.5060],\n",
       "         [0.8314, 0.5859, 0.9143],\n",
       "         [0.4767, 0.8473, 0.8143]],\n",
       "\n",
       "        [[0.9193, 0.2179, 0.2190],\n",
       "         [0.8066, 0.2152, 0.3740],\n",
       "         [0.7958, 0.7682, 0.0624],\n",
       "         ...,\n",
       "         [0.2841, 0.5605, 0.7792],\n",
       "         [0.8169, 0.2563, 0.0551],\n",
       "         [0.1745, 0.7059, 0.0051]],\n",
       "\n",
       "        [[0.9301, 0.7306, 0.5398],\n",
       "         [0.2475, 0.0547, 0.9131],\n",
       "         [0.0547, 0.7998, 0.7663],\n",
       "         ...,\n",
       "         [0.0323, 0.8836, 0.3163],\n",
       "         [0.7256, 0.5092, 0.1818],\n",
       "         [0.0181, 0.2087, 0.2329]]])"
      ]
     },
     "execution_count": 19,
     "metadata": {},
     "output_type": "execute_result"
    }
   ],
   "source": [
    "x_original"
   ]
  },
  {
   "cell_type": "code",
   "execution_count": 20,
   "id": "5873bcc8",
   "metadata": {},
   "outputs": [
    {
     "data": {
      "text/plain": [
       "tensor(0.8275)"
      ]
     },
     "execution_count": 20,
     "metadata": {},
     "output_type": "execute_result"
    }
   ],
   "source": [
    "x_original[0, 0, 0]"
   ]
  },
  {
   "cell_type": "code",
   "execution_count": 21,
   "id": "5fb349b7",
   "metadata": {},
   "outputs": [
    {
     "data": {
      "text/plain": [
       "tensor(100.)"
      ]
     },
     "execution_count": 21,
     "metadata": {},
     "output_type": "execute_result"
    }
   ],
   "source": [
    "x_original[0, 0, 0] = 100\n",
    "x_original[0, 0, 0]"
   ]
  }
 ],
 "metadata": {
  "kernelspec": {
   "display_name": "llms",
   "language": "python",
   "name": "python3"
  },
  "language_info": {
   "codemirror_mode": {
    "name": "ipython",
    "version": 3
   },
   "file_extension": ".py",
   "mimetype": "text/x-python",
   "name": "python",
   "nbconvert_exporter": "python",
   "pygments_lexer": "ipython3",
   "version": "3.11.11"
  }
 },
 "nbformat": 4,
 "nbformat_minor": 5
}
